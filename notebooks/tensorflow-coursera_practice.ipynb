{
 "cells": [
  {
   "cell_type": "code",
   "execution_count": 1,
   "metadata": {},
   "outputs": [],
   "source": [
    "import numpy as np\n",
    "import tensorflow as tf\n"
   ]
  },
  {
   "cell_type": "code",
   "execution_count": 24,
   "metadata": {},
   "outputs": [
    {
     "name": "stdout",
     "output_type": "stream",
     "text": [
      "0.0\n"
     ]
    }
   ],
   "source": [
    "coefficients = np.array([[1.],[-20.],[100]])\n",
    "\n",
    "w = tf.Variable(0,dtype=tf.float32)\n",
    "\n",
    "# placeholder means a variable that you can assign later\n",
    "# get training data into the cost function\n",
    "x = tf.placeholder(tf.float32,[3,1]) \n",
    "\n",
    "#cost =tf.add(tf.add(w**2,tf.multiply(-10.,w)),25)\n",
    "cost = x[0][0]*w**2 - x[1][0]*w + x[2][0]\n",
    "\n",
    "train = tf.train.GradientDescentOptimizer(0.01).minimize(cost)\n",
    "\n",
    "init=tf.global_variables_initializer()\n",
    "session = tf.Session()\n",
    "session.run(init)\n",
    "print(session.run(w))\n",
    "\n",
    "# 直接用with也可以，紧接training\n",
    "# with tf.Session() as session:\n",
    "#     session.run(init)\n",
    "#     print(session.run(w))\n",
    "#     session.run(train,feed_dict={x:coefficients})\n",
    "#     print(session.run(w))\n",
    "#     for i in range(1000):\n",
    "#         session.run(train,feed_dict={x:coefficients})\n",
    "#     print(session.run(w))"
   ]
  },
  {
   "cell_type": "code",
   "execution_count": 25,
   "metadata": {},
   "outputs": [
    {
     "name": "stdout",
     "output_type": "stream",
     "text": [
      "-0.19999999\n"
     ]
    }
   ],
   "source": [
    "session.run(train,feed_dict={x:coefficients})\n",
    "print(session.run(w))"
   ]
  },
  {
   "cell_type": "code",
   "execution_count": 26,
   "metadata": {},
   "outputs": [
    {
     "name": "stdout",
     "output_type": "stream",
     "text": [
      "-9.999977\n"
     ]
    }
   ],
   "source": [
    "for i in range(1000):\n",
    "    session.run(train,feed_dict={x:coefficients})\n",
    "print(session.run(w))"
   ]
  },
  {
   "cell_type": "code",
   "execution_count": 2,
   "metadata": {},
   "outputs": [
    {
     "name": "stdout",
     "output_type": "stream",
     "text": [
      "Tensor(\"Const:0\", shape=(2, 3, 4), dtype=float32)\n"
     ]
    }
   ],
   "source": [
    "example_tensor = tf.constant(\n",
    "[\n",
    "    [[1.1, 2.2,3.3,4.4],\n",
    "     [1.1, 2.2,3.3,4.4],\n",
    "     [1.1, 2.2,3.3,4.4]],\n",
    "    [[2.1, 2.2,3.3,4.4],\n",
    "     [2.1, 2.2,3.3,4.4],\n",
    "     [2.1, 2.2,3.3,4.4]],\n",
    "])\n",
    "print(example_tensor)"
   ]
  },
  {
   "cell_type": "code",
   "execution_count": 3,
   "metadata": {},
   "outputs": [],
   "source": [
    "transposed_tensor = tf.transpose(example_tensor)"
   ]
  },
  {
   "cell_type": "code",
   "execution_count": 4,
   "metadata": {},
   "outputs": [
    {
     "name": "stdout",
     "output_type": "stream",
     "text": [
      "[[[1.1 2.2 3.3 4.4]\n",
      "  [1.1 2.2 3.3 4.4]\n",
      "  [1.1 2.2 3.3 4.4]]\n",
      "\n",
      " [[2.1 2.2 3.3 4.4]\n",
      "  [2.1 2.2 3.3 4.4]\n",
      "  [2.1 2.2 3.3 4.4]]]\n"
     ]
    }
   ],
   "source": [
    "sess = tf.Session()\n",
    "sess.run(tf.global_variables_initializer())\n",
    "print(sess.run(example_tensor))"
   ]
  },
  {
   "cell_type": "code",
   "execution_count": 5,
   "metadata": {},
   "outputs": [
    {
     "name": "stdout",
     "output_type": "stream",
     "text": [
      "[[[1.1 2.1]\n",
      "  [1.1 2.1]\n",
      "  [1.1 2.1]]\n",
      "\n",
      " [[2.2 2.2]\n",
      "  [2.2 2.2]\n",
      "  [2.2 2.2]]\n",
      "\n",
      " [[3.3 3.3]\n",
      "  [3.3 3.3]\n",
      "  [3.3 3.3]]\n",
      "\n",
      " [[4.4 4.4]\n",
      "  [4.4 4.4]\n",
      "  [4.4 4.4]]]\n"
     ]
    }
   ],
   "source": [
    "print(sess.run(transposed_tensor))"
   ]
  },
  {
   "cell_type": "code",
   "execution_count": 6,
   "metadata": {},
   "outputs": [
    {
     "name": "stdout",
     "output_type": "stream",
     "text": [
      "Tensor(\"transpose:0\", shape=(4, 3, 2), dtype=float32)\n"
     ]
    }
   ],
   "source": [
    "print(transposed_tensor)"
   ]
  },
  {
   "cell_type": "code",
   "execution_count": 7,
   "metadata": {},
   "outputs": [
    {
     "name": "stdout",
     "output_type": "stream",
     "text": [
      "[[[[ 0  1  2]\n",
      "   [ 3  4  5]\n",
      "   [ 6  7  8]]\n",
      "\n",
      "  [[ 9 10 11]\n",
      "   [12 13 14]\n",
      "   [15 16 17]]\n",
      "\n",
      "  [[18 19 20]\n",
      "   [21 22 23]\n",
      "   [24 25 26]]\n",
      "\n",
      "  [[27 28 29]\n",
      "   [30 31 32]\n",
      "   [33 34 35]]\n",
      "\n",
      "  [[36 37 38]\n",
      "   [39 40 41]\n",
      "   [42 43 44]]]]\n"
     ]
    }
   ],
   "source": [
    "# one way of unroll\n",
    "a = np.arange(45)\n",
    "A = np.reshape(a, (1, 5,3,-1))\n",
    "B = tf.constant(A)\n",
    "\n",
    "n_C = 5\n",
    "print(sess.run(B))"
   ]
  },
  {
   "cell_type": "code",
   "execution_count": 10,
   "metadata": {},
   "outputs": [
    {
     "name": "stdout",
     "output_type": "stream",
     "text": [
      "[[ 0  1  2  3  4  5  6  7  8]\n",
      " [ 9 10 11 12 13 14 15 16 17]\n",
      " [18 19 20 21 22 23 24 25 26]\n",
      " [27 28 29 30 31 32 33 34 35]\n",
      " [36 37 38 39 40 41 42 43 44]]\n"
     ]
    }
   ],
   "source": [
    "# reshape so that n_C is the rows and the columns are n_H*n_W\n",
    "with tf.Session() as test:\n",
    "    print(tf.reshape(B, [n_C, -1]).eval())\n",
    "    "
   ]
  },
  {
   "cell_type": "code",
   "execution_count": 11,
   "metadata": {},
   "outputs": [
    {
     "name": "stdout",
     "output_type": "stream",
     "text": [
      "(5, 9)\n"
     ]
    }
   ],
   "source": [
    "print(tf.reshape(B, [n_C, -1]).shape)"
   ]
  },
  {
   "cell_type": "code",
   "execution_count": null,
   "metadata": {},
   "outputs": [],
   "source": []
  }
 ],
 "metadata": {
  "kernelspec": {
   "display_name": "Python 3",
   "language": "python",
   "name": "python3"
  },
  "language_info": {
   "codemirror_mode": {
    "name": "ipython",
    "version": 3
   },
   "file_extension": ".py",
   "mimetype": "text/x-python",
   "name": "python",
   "nbconvert_exporter": "python",
   "pygments_lexer": "ipython3",
   "version": "3.6.8"
  }
 },
 "nbformat": 4,
 "nbformat_minor": 1
}
