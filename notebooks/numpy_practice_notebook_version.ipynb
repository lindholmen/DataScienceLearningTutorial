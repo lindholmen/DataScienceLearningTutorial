{
 "cells": [
  {
   "cell_type": "code",
   "execution_count": 110,
   "metadata": {
    "pycharm": {
     "is_executing": false
    }
   },
   "outputs": [
    {
     "name": "stdout",
     "output_type": "stream",
     "text": [
      "1.16.4\n"
     ]
    }
   ],
   "source": [
    "import numpy as np\n",
    "import matplotlib.pyplot as plt\n",
    "import seaborn\n",
    "import pandas as pd\n",
    "%matplotlib inline\n",
    "import matplotlib.pyplot as plt\n",
    "import seaborn; seaborn.set()\n",
    "print(np.__version__)"
   ]
  },
  {
   "cell_type": "markdown",
   "metadata": {},
   "source": [
    "# Numpy basics"
   ]
  },
  {
   "cell_type": "markdown",
   "metadata": {},
   "source": [
    "## Creating arrays"
   ]
  },
  {
   "cell_type": "code",
   "execution_count": 2,
   "metadata": {
    "pycharm": {
     "is_executing": false
    },
    "scrolled": false
   },
   "outputs": [
    {
     "data": {
      "text/plain": [
       "array([1, 2, 3])"
      ]
     },
     "execution_count": 2,
     "metadata": {},
     "output_type": "execute_result"
    }
   ],
   "source": [
    "multidata = np.array(range(1,4))\n",
    "multidata"
   ]
  },
  {
   "cell_type": "markdown",
   "metadata": {},
   "source": [
    "### Create array with list"
   ]
  },
  {
   "cell_type": "code",
   "execution_count": 3,
   "metadata": {
    "pycharm": {
     "is_executing": false
    },
    "scrolled": false
   },
   "outputs": [
    {
     "name": "stdout",
     "output_type": "stream",
     "text": [
      "[[1 2 3]\n",
      " [2 3 4]\n",
      " [3 4 5]]\n"
     ]
    }
   ],
   "source": [
    "multidata = np.array([range(i,i+3) for i in [1,2,3]])\n",
    "print(multidata)"
   ]
  },
  {
   "cell_type": "markdown",
   "metadata": {},
   "source": [
    "### Create array with random methods"
   ]
  },
  {
   "cell_type": "code",
   "execution_count": 4,
   "metadata": {},
   "outputs": [
    {
     "data": {
      "text/plain": [
       "array([[0.56111723, 0.5003165 , 0.75261144],\n",
       "       [0.03164327, 0.86132758, 0.1134418 ],\n",
       "       [0.02657238, 0.93060256, 0.01844359]])"
      ]
     },
     "execution_count": 4,
     "metadata": {},
     "output_type": "execute_result"
    }
   ],
   "source": [
    "np.random.random((3,3))"
   ]
  },
  {
   "cell_type": "code",
   "execution_count": 5,
   "metadata": {},
   "outputs": [
    {
     "data": {
      "text/plain": [
       "array([[ 0.64531849,  0.00652871,  1.91888739],\n",
       "       [-0.03271505,  2.29828612, -0.10751777],\n",
       "       [ 0.94534159, -0.70939134, -1.015656  ]])"
      ]
     },
     "execution_count": 5,
     "metadata": {},
     "output_type": "execute_result"
    }
   ],
   "source": [
    "np.random.normal(0,1,(3,3))"
   ]
  },
  {
   "cell_type": "code",
   "execution_count": 6,
   "metadata": {},
   "outputs": [
    {
     "data": {
      "text/plain": [
       "array([5, 0, 3, 3, 7, 9])"
      ]
     },
     "execution_count": 6,
     "metadata": {},
     "output_type": "execute_result"
    }
   ],
   "source": [
    "np.random.seed(0)\n",
    "np.random.randint(0,10, 6)"
   ]
  },
  {
   "cell_type": "code",
   "execution_count": 7,
   "metadata": {
    "scrolled": true
   },
   "outputs": [
    {
     "data": {
      "text/plain": [
       "array([[3, 5, 2],\n",
       "       [4, 7, 6],\n",
       "       [8, 8, 1]])"
      ]
     },
     "execution_count": 7,
     "metadata": {},
     "output_type": "execute_result"
    }
   ],
   "source": [
    "np.random.randint(0,10,(3,3))"
   ]
  },
  {
   "cell_type": "code",
   "execution_count": 311,
   "metadata": {},
   "outputs": [
    {
     "name": "stdout",
     "output_type": "stream",
     "text": [
      "x: [[4 7 6 9]\n",
      " [6 3 5 1]\n",
      " [8 2 5 2]]\n",
      "y: [[6.78231554 2.93603184 2.41621498 5.51116494]\n",
      " [7.29296316 6.01052677 7.37483202 3.12979177]\n",
      " [9.82982183 5.59779351 9.65347218 5.85959614]]\n",
      "x>3: [4 7 6 9 6 5 8 5]\n",
      "the conditions for (x>3): [[ True  True  True  True]\n",
      " [ True False  True False]\n",
      " [ True False  True False]]\n",
      "y<=5 [[False False False False]\n",
      " [False False False False]\n",
      " [False False False False]]\n",
      "z: [ 1.59149851 -0.56689478 -0.02381511 -0.16465653 -1.42962741  2.02549783\n",
      "  0.76962459 -0.68304508 -0.6115557  -0.10331842  0.4186876  -0.62380495\n",
      " -0.27999296 -0.35464278  1.67722647 -0.60966902 -1.3159027  -0.6684342\n",
      " -0.63820965 -1.28432716 -0.69378859 -1.48398222  0.35924481  0.16532668\n",
      " -0.90141325 -1.18379731 -0.04049712  0.09028087 -0.03638785  1.10968457\n",
      "  0.64567993 -1.21292149 -0.63059805 -1.26819104  1.41348371  0.58581373\n",
      " -0.86830626  2.05141538  0.16434505  0.73883437 -0.13006365  0.39582883\n",
      " -0.12104582  0.61115917  0.41936993  0.57051538 -0.42153348  0.32038791\n",
      " -1.52782284  0.58497237 -1.17889755  0.64928985  0.87697069 -0.56345177\n",
      " -0.76927213  0.71178968  0.05848815  0.23388496 -0.70272042  1.16359913\n",
      "  0.17848401 -0.78024584 -0.55729083 -0.94504818  0.55646199 -0.74299567\n",
      " -0.29825998 -0.20106949  0.09630137  0.52162467 -0.78625327 -1.01612511\n",
      "  0.69433072 -0.96754063 -0.07812987  0.8690149   0.63156975  0.80798891\n",
      "  1.50054989 -0.60926216 -0.045253    0.84036    -0.20064817  0.16292573\n",
      "  3.02288661  1.0326544  -0.43813298  1.03527111  1.28692249  0.28721006\n",
      " -0.22626459  0.70286324 -2.33798798 -0.89178943  0.04478223 -1.88349884\n",
      "  1.71709972  0.06613078 -2.20024939  0.39792915]\n"
     ]
    },
    {
     "data": {
      "text/plain": [
       "(array([ 0.,  1.,  5., 29., 34., 23.,  7.,  1.,  0.]),\n",
       " array([-4.        , -3.11111111, -2.22222222, -1.33333333, -0.44444444,\n",
       "         0.44444444,  1.33333333,  2.22222222,  3.11111111,  4.        ]),\n",
       " <a list of 9 Patch objects>)"
      ]
     },
     "execution_count": 311,
     "metadata": {},
     "output_type": "execute_result"
    },
    {
     "data": {
      "image/png": "[encoded data removed]",
      "text/plain": [
       "<Figure size 432x288 with 1 Axes>"
      ]
     },
     "metadata": {},
     "output_type": "display_data"
    }
   ],
   "source": [
    "rng = np.random.RandomState(255)\n",
    "x = rng.randint(1,10,(3,4))\n",
    "y = rng.uniform(1,10,(3,4))\n",
    "z = rng.randn(100)\n",
    "print(\"x:\",x)\n",
    "print(\"y:\",y)\n",
    "print(\"x>3:\", x[x>3])\n",
    "print(\"the conditions for (x>3):\", x>3)\n",
    "print(\"y<=5\", np.less_equal(y,0.5))\n",
    "print(\"z:\",z)\n",
    "bins = np.linspace(-4,4,10)\n",
    "plt.hist(z,bins)"
   ]
  },
  {
   "cell_type": "code",
   "execution_count": 8,
   "metadata": {},
   "outputs": [
    {
     "data": {
      "text/plain": [
       "array([[0, 0, 0],\n",
       "       [0, 0, 0]])"
      ]
     },
     "execution_count": 8,
     "metadata": {},
     "output_type": "execute_result"
    }
   ],
   "source": [
    "np.zeros((2,3), dtype=\"int\") # \"np.int16\""
   ]
  },
  {
   "cell_type": "code",
   "execution_count": 9,
   "metadata": {},
   "outputs": [
    {
     "data": {
      "text/plain": [
       "array([[1., 0., 0.],\n",
       "       [0., 1., 0.],\n",
       "       [0., 0., 1.]])"
      ]
     },
     "execution_count": 9,
     "metadata": {},
     "output_type": "execute_result"
    }
   ],
   "source": [
    "np.eye(3)"
   ]
  },
  {
   "cell_type": "code",
   "execution_count": 10,
   "metadata": {},
   "outputs": [
    {
     "data": {
      "text/plain": [
       "array([[3.14, 3.14, 3.14, 3.14, 3.14],\n",
       "       [3.14, 3.14, 3.14, 3.14, 3.14],\n",
       "       [3.14, 3.14, 3.14, 3.14, 3.14]])"
      ]
     },
     "execution_count": 10,
     "metadata": {},
     "output_type": "execute_result"
    }
   ],
   "source": [
    "np.full((3,5),3.14)"
   ]
  },
  {
   "cell_type": "code",
   "execution_count": 11,
   "metadata": {},
   "outputs": [
    {
     "name": "stdout",
     "output_type": "stream",
     "text": [
      "[4.50620083e-144 4.82412328e+228 1.04718130e-142 5.04621361e+180\n",
      " 7.49779533e+247]\n"
     ]
    },
    {
     "data": {
      "text/plain": [
       "array([ 0., 10., 20., 30., 40.])"
      ]
     },
     "execution_count": 11,
     "metadata": {},
     "output_type": "execute_result"
    }
   ],
   "source": [
    "print(np.empty(5))\n",
    "x= np.arange(5)\n",
    "y=np.empty(5)\n",
    "np.multiply(x,10,out=y)"
   ]
  },
  {
   "cell_type": "markdown",
   "metadata": {},
   "source": [
    "## Array properties and slicing"
   ]
  },
  {
   "cell_type": "code",
   "execution_count": 12,
   "metadata": {
    "pycharm": {
     "is_executing": false
    },
    "scrolled": false
   },
   "outputs": [
    {
     "name": "stdout",
     "output_type": "stream",
     "text": [
      "(4, 4)\n",
      "2\n",
      "16\n",
      "int64\n"
     ]
    }
   ],
   "source": [
    "my_grid = np.arange(16).reshape((4,4))\n",
    "my_grid \n",
    "print(my_grid.shape)\n",
    "print(my_grid.ndim)\n",
    "print(my_grid.size)\n",
    "print(my_grid.dtype)"
   ]
  },
  {
   "cell_type": "code",
   "execution_count": 13,
   "metadata": {},
   "outputs": [
    {
     "data": {
      "text/plain": [
       "array([1, 2, 3])"
      ]
     },
     "execution_count": 13,
     "metadata": {},
     "output_type": "execute_result"
    }
   ],
   "source": [
    "my_grid[0][1:]"
   ]
  },
  {
   "cell_type": "code",
   "execution_count": 14,
   "metadata": {},
   "outputs": [
    {
     "data": {
      "text/plain": [
       "array([[ 0, 99,  2,  3],\n",
       "       [ 4,  5,  6,  7],\n",
       "       [ 8,  9, 10, 11],\n",
       "       [12, 13, 14, 15]])"
      ]
     },
     "execution_count": 14,
     "metadata": {},
     "output_type": "execute_result"
    }
   ],
   "source": [
    "my_grid[0][1] = 99\n",
    "my_grid "
   ]
  },
  {
   "cell_type": "code",
   "execution_count": 15,
   "metadata": {},
   "outputs": [
    {
     "data": {
      "text/plain": [
       "array([[ 0, 99,  2],\n",
       "       [ 4,  5,  6]])"
      ]
     },
     "execution_count": 15,
     "metadata": {},
     "output_type": "execute_result"
    }
   ],
   "source": [
    "sub_arrays = my_grid[:2, :3] # views when using slice but in python slice will be copies\n",
    "sub_arrays"
   ]
  },
  {
   "cell_type": "code",
   "execution_count": 16,
   "metadata": {},
   "outputs": [
    {
     "data": {
      "text/plain": [
       "array([[  0, 999,   2,   3],\n",
       "       [  4,   5,   6,   7],\n",
       "       [  8,   9,  10,  11],\n",
       "       [ 12,  13,  14,  15]])"
      ]
     },
     "execution_count": 16,
     "metadata": {},
     "output_type": "execute_result"
    }
   ],
   "source": [
    "sub_arrays[0][1] = 999 # because of view, the original will be influenced\n",
    "my_grid"
   ]
  },
  {
   "cell_type": "code",
   "execution_count": 17,
   "metadata": {},
   "outputs": [
    {
     "data": {
      "text/plain": [
       "array([[  0, 999,   2,   3],\n",
       "       [  4,   5,   6,   7],\n",
       "       [  8,   9,  10,  11],\n",
       "       [ 12,  13,  14,  15]])"
      ]
     },
     "execution_count": 17,
     "metadata": {},
     "output_type": "execute_result"
    }
   ],
   "source": [
    "sub_arrays_copy = my_grid[:2, :3].copy()\n",
    "sub_arrays_copy[0][1] = 9999\n",
    "my_grid"
   ]
  },
  {
   "cell_type": "code",
   "execution_count": 18,
   "metadata": {},
   "outputs": [
    {
     "data": {
      "text/plain": [
       "array([[ 0,  2],\n",
       "       [ 4,  6],\n",
       "       [ 8, 10]])"
      ]
     },
     "execution_count": 18,
     "metadata": {},
     "output_type": "execute_result"
    }
   ],
   "source": [
    "sub_arrays2 = my_grid[:3, ::2]\n",
    "sub_arrays2\n"
   ]
  },
  {
   "cell_type": "code",
   "execution_count": 19,
   "metadata": {},
   "outputs": [
    {
     "data": {
      "text/plain": [
       "array([  0, 999,   2,   3])"
      ]
     },
     "execution_count": 19,
     "metadata": {},
     "output_type": "execute_result"
    }
   ],
   "source": [
    "first_row = my_grid[0]\n",
    "first_row"
   ]
  },
  {
   "cell_type": "code",
   "execution_count": 20,
   "metadata": {},
   "outputs": [
    {
     "data": {
      "text/plain": [
       "array([ 0,  4,  8, 12])"
      ]
     },
     "execution_count": 20,
     "metadata": {},
     "output_type": "execute_result"
    }
   ],
   "source": [
    "first_column = my_grid[:,0]\n",
    "first_column"
   ]
  },
  {
   "cell_type": "markdown",
   "metadata": {},
   "source": [
    "## Reshaping and concatenating"
   ]
  },
  {
   "cell_type": "code",
   "execution_count": 21,
   "metadata": {},
   "outputs": [
    {
     "data": {
      "text/plain": [
       "array([7, 8, 9, 1, 2, 3])"
      ]
     },
     "execution_count": 21,
     "metadata": {},
     "output_type": "execute_result"
    }
   ],
   "source": [
    "x= np.arange(7,10)\n",
    "y= np.arange(1,4)\n",
    "np.concatenate((x,y))"
   ]
  },
  {
   "cell_type": "code",
   "execution_count": 22,
   "metadata": {},
   "outputs": [
    {
     "name": "stdout",
     "output_type": "stream",
     "text": [
      "[[ 1  2]\n",
      " [ 3  4]\n",
      " [ 9 10]]\n",
      "[[ 1  2  9]\n",
      " [ 3  4 10]]\n",
      "[ 1  2  3  4  9 10]\n"
     ]
    }
   ],
   "source": [
    "x= np.array([[1,2],\n",
    "              [3,4]])\n",
    "y= np.array([[9,10]])\n",
    "j = np.concatenate((x,y),axis = 0)\n",
    "k = np.concatenate((x,y.T),axis = 1)\n",
    "l = np.concatenate((x,y),axis = None)\n",
    "print(j)\n",
    "print(k)\n",
    "print(l)"
   ]
  },
  {
   "cell_type": "code",
   "execution_count": 23,
   "metadata": {},
   "outputs": [
    {
     "data": {
      "text/plain": [
       "array([[  0, 999,   2,   3],\n",
       "       [  4,   5,   6,   7],\n",
       "       [  8,   9,  10,  11],\n",
       "       [ 12,  13,  14,  15]])"
      ]
     },
     "execution_count": 23,
     "metadata": {},
     "output_type": "execute_result"
    }
   ],
   "source": [
    "my_grid"
   ]
  },
  {
   "cell_type": "code",
   "execution_count": 24,
   "metadata": {},
   "outputs": [
    {
     "data": {
      "text/plain": [
       "[array([[  0, 999,   2,   3],\n",
       "        [  4,   5,   6,   7]]), array([[ 8,  9, 10, 11],\n",
       "        [12, 13, 14, 15]])]"
      ]
     },
     "execution_count": 24,
     "metadata": {},
     "output_type": "execute_result"
    }
   ],
   "source": [
    "np.vsplit(my_grid,2) # vertically divide it into 2 sections (row-wise)"
   ]
  },
  {
   "cell_type": "code",
   "execution_count": 25,
   "metadata": {
    "scrolled": true
   },
   "outputs": [
    {
     "name": "stdout",
     "output_type": "stream",
     "text": [
      "[[  0 999]\n",
      " [  4   5]\n",
      " [  8   9]\n",
      " [ 12  13]]\n",
      "[[ 2  3]\n",
      " [ 6  7]\n",
      " [10 11]\n",
      " [14 15]]\n"
     ]
    }
   ],
   "source": [
    "h1,h2= np.hsplit(my_grid,2) # horizontally\n",
    "print(h1)\n",
    "print(h2)"
   ]
  },
  {
   "cell_type": "code",
   "execution_count": 26,
   "metadata": {},
   "outputs": [
    {
     "data": {
      "text/plain": [
       "array([[1, 2, 3],\n",
       "       [9, 8, 7],\n",
       "       [9, 8, 6]])"
      ]
     },
     "execution_count": 26,
     "metadata": {},
     "output_type": "execute_result"
    }
   ],
   "source": [
    "x = np.array([1,2,3])\n",
    "grid = np.array([[9,8,7],\n",
    "                [9,8,6]])\n",
    "np.vstack([x,grid])"
   ]
  },
  {
   "cell_type": "code",
   "execution_count": 27,
   "metadata": {},
   "outputs": [
    {
     "data": {
      "text/plain": [
       "array([[9, 8, 7, 1],\n",
       "       [9, 8, 6, 2]])"
      ]
     },
     "execution_count": 27,
     "metadata": {},
     "output_type": "execute_result"
    }
   ],
   "source": [
    "y = np.array([[1],\n",
    "             [2]])\n",
    "np.hstack([grid, y])"
   ]
  },
  {
   "cell_type": "code",
   "execution_count": 28,
   "metadata": {},
   "outputs": [
    {
     "data": {
      "text/plain": [
       "array([[  1,   2,   4],\n",
       "       [  8,  16,  32],\n",
       "       [ 64, 128, 256]])"
      ]
     },
     "execution_count": 28,
     "metadata": {},
     "output_type": "execute_result"
    }
   ],
   "source": [
    "x0 = np.arange(9).reshape((3,3))\n",
    "2**x0"
   ]
  },
  {
   "cell_type": "markdown",
   "metadata": {},
   "source": [
    "## Ufuncs"
   ]
  },
  {
   "cell_type": "code",
   "execution_count": 29,
   "metadata": {},
   "outputs": [
    {
     "name": "stdout",
     "output_type": "stream",
     "text": [
      "3.85 s ± 180 ms per loop (mean ± std. dev. of 7 runs, 1 loop each)\n"
     ]
    }
   ],
   "source": [
    "np.random.seed(0)\n",
    "\n",
    "def get_reciprocol(value):\n",
    "    output = np.empty(len(value))\n",
    "    for i in range(len(value)):\n",
    "        output[i] = 1.0/value[i]\n",
    "    return output\n",
    "\n",
    "my_value = np.random.randint(1,10,1000000)\n",
    "%timeit get_reciprocol(my_value)"
   ]
  },
  {
   "cell_type": "code",
   "execution_count": 30,
   "metadata": {},
   "outputs": [
    {
     "name": "stdout",
     "output_type": "stream",
     "text": [
      "1.82 ms ± 124 µs per loop (mean ± std. dev. of 7 runs, 1000 loops each)\n"
     ]
    }
   ],
   "source": [
    "%timeit (1.0/my_value)"
   ]
  },
  {
   "cell_type": "code",
   "execution_count": 31,
   "metadata": {},
   "outputs": [
    {
     "data": {
      "text/plain": [
       "array([0.        , 0.5       , 0.66666667, 0.75      , 0.8       ])"
      ]
     },
     "execution_count": 31,
     "metadata": {},
     "output_type": "execute_result"
    }
   ],
   "source": [
    "np.arange(5)/ np.arange(1,6)"
   ]
  },
  {
   "cell_type": "code",
   "execution_count": 32,
   "metadata": {},
   "outputs": [
    {
     "name": "stdout",
     "output_type": "stream",
     "text": [
      "[1 2 3]\n",
      "6\n",
      "6\n",
      "[1 3 6]\n",
      "[1 2 6]\n"
     ]
    }
   ],
   "source": [
    "x = np.arange(1,4)\n",
    "print(x)\n",
    "print(np.add.reduce(x))\n",
    "print(np.multiply.reduce(x))\n",
    "print(np.add.accumulate(x))\n",
    "print(np.multiply.accumulate(x))"
   ]
  },
  {
   "cell_type": "code",
   "execution_count": 33,
   "metadata": {},
   "outputs": [
    {
     "data": {
      "text/plain": [
       "array([0.37023505, 0.46147507, 1.76086415, 0.65411776, 0.71157957,\n",
       "       0.45484658, 2.05724558, 0.55988193, 0.59935751, 1.33851942])"
      ]
     },
     "execution_count": 33,
     "metadata": {},
     "output_type": "execute_result"
    }
   ],
   "source": [
    "x = np.random.normal(0,1,10)\n",
    "abs(x)"
   ]
  },
  {
   "cell_type": "code",
   "execution_count": 34,
   "metadata": {},
   "outputs": [
    {
     "name": "stdout",
     "output_type": "stream",
     "text": [
      "[0.         1.57079633 3.14159265]\n",
      "[0.0000000e+00 1.0000000e+00 1.2246468e-16]\n"
     ]
    }
   ],
   "source": [
    "theta = np.linspace(0,np.pi,3)\n",
    "print(theta)\n",
    "print(np.sin(theta))"
   ]
  },
  {
   "cell_type": "code",
   "execution_count": 35,
   "metadata": {},
   "outputs": [
    {
     "name": "stdout",
     "output_type": "stream",
     "text": [
      "e^x =  [  2.71828183   7.3890561   20.08553692  54.59815003 148.4131591 ]\n",
      "2^x =  [ 2.  4.  8. 16. 32.]\n",
      "3^x =  [  3   9  27  81 243]\n",
      "ln(x) =  [0.         0.69314718 1.09861229 1.38629436 1.60943791]\n",
      "log2(x) =  [0.         1.         1.5849625  2.         2.32192809]\n",
      "log10(x) =  [0.         0.30103    0.47712125 0.60205999 0.69897   ]\n"
     ]
    }
   ],
   "source": [
    "x = np.arange(1,6)\n",
    "print(\"e^x = \", np.exp(x))\n",
    "print(\"2^x = \", np.exp2(x))\n",
    "print(\"3^x = \", np.power(3,x))\n",
    "print(\"ln(x) = \", np.log(x))\n",
    "print(\"log2(x) = \", np.log2(x))\n",
    "print(\"log10(x) = \", np.log10(x))"
   ]
  },
  {
   "cell_type": "code",
   "execution_count": 44,
   "metadata": {},
   "outputs": [
    {
     "name": "stdout",
     "output_type": "stream",
     "text": [
      "8.57 ms ± 153 µs per loop (mean ± std. dev. of 7 runs, 100 loops each)\n"
     ]
    }
   ],
   "source": [
    "%timeit sum(np.random.random(100000))\n"
   ]
  },
  {
   "cell_type": "code",
   "execution_count": 45,
   "metadata": {},
   "outputs": [
    {
     "name": "stdout",
     "output_type": "stream",
     "text": [
      "877 µs ± 4.2 µs per loop (mean ± std. dev. of 7 runs, 1000 loops each)\n"
     ]
    }
   ],
   "source": [
    "%timeit np.sum(np.random.random(100000))"
   ]
  },
  {
   "cell_type": "code",
   "execution_count": 47,
   "metadata": {},
   "outputs": [
    {
     "name": "stdout",
     "output_type": "stream",
     "text": [
      "1.8021650157740154e-06\n",
      "0.9999986430338019\n"
     ]
    }
   ],
   "source": [
    "big_array = np.random.random(1000000)\n",
    "print(np.min(big_array))\n",
    "print(np.max(big_array))"
   ]
  },
  {
   "cell_type": "code",
   "execution_count": 48,
   "metadata": {},
   "outputs": [
    {
     "name": "stdout",
     "output_type": "stream",
     "text": [
      "[[0.7926517  0.47770825 0.67746617 0.13234302]\n",
      " [0.26579911 0.22446063 0.64993367 0.32283707]\n",
      " [0.38831726 0.43877545 0.855934   0.58320284]]\n"
     ]
    }
   ],
   "source": [
    "matrix_array = np.random.random((3,4))\n",
    "print(matrix_array)"
   ]
  },
  {
   "cell_type": "code",
   "execution_count": 50,
   "metadata": {},
   "outputs": [
    {
     "name": "stdout",
     "output_type": "stream",
     "text": [
      "min value of each column: [0.26579911 0.22446063 0.64993367 0.13234302]\n",
      "min value of each row: [0.13234302 0.22446063 0.38831726]\n"
     ]
    }
   ],
   "source": [
    "print(\"min value of each column:\", matrix_array.min(axis=0))\n",
    "print(\"min value of each row:\", matrix_array.min(axis=1)) # np.min also works"
   ]
  },
  {
   "cell_type": "code",
   "execution_count": 74,
   "metadata": {},
   "outputs": [
    {
     "name": "stdout",
     "output_type": "stream",
     "text": [
      "np.sum = 5.809429176563613\n",
      "np.prod = 6\n",
      "np.prod = 24\n",
      "np.prod = [ 2 12]\n",
      "np.mean = 2.5\n",
      "np.std = 1.118033988749895\n",
      "np.var = 1.118033988749895\n",
      "np.min = 1.118033988749895\n",
      "np.argmin =  3\n",
      "np.argmax =  10\n",
      "np.median =  2.5\n"
     ]
    }
   ],
   "source": [
    "print(\"np.sum =\" ,np.sum(matrix_array))\n",
    "print(\"np.prod =\" ,np.prod(np.arange(1,4)))\n",
    "print(\"np.prod =\" ,np.prod(np.arange(1,5).reshape((2,2))))\n",
    "print(\"np.prod =\" ,np.prod(np.arange(1,5).reshape((2,2)), axis = 1))\n",
    "print(\"np.mean =\" , np.mean(np.arange(1,5)))\n",
    "print(\"np.std =\" , np.std(np.arange(1,5)))\n",
    "print(\"np.var =\" , np.std(np.arange(1,5)))\n",
    "print(\"np.min =\" , np.std(np.arange(1,5)))\n",
    "print(\"np.argmin = \", np.argmin(matrix_array)) # 0.132\n",
    "print(\"np.argmax = \", np.argmax(matrix_array)) # 0.855\n",
    "print(\"np.median = \", np.median(np.arange(1,5)))"
   ]
  },
  {
   "cell_type": "code",
   "execution_count": 149,
   "metadata": {},
   "outputs": [
    {
     "name": "stdout",
     "output_type": "stream",
     "text": [
      "[[8 2 2 3]\n",
      " [9 5 8 8]\n",
      " [7 5 4 4]]\n",
      "[1 3 1]\n"
     ]
    }
   ],
   "source": [
    "x = rng.randint(0,10,(3,4))\n",
    "print(x)\n",
    "print(np.sum(x>5,axis = 1)) # axis =1 means the calc is along the horizontal axis, i.e. calc the value in each row"
   ]
  },
  {
   "cell_type": "code",
   "execution_count": 150,
   "metadata": {},
   "outputs": [
    {
     "name": "stdout",
     "output_type": "stream",
     "text": [
      "check if any value is greater than 5 in each row: [ True  True  True]\n"
     ]
    }
   ],
   "source": [
    "print(\"check if any value is greater than 5 in each row:\", np.any(x>5, axis =1))"
   ]
  },
  {
   "cell_type": "code",
   "execution_count": 153,
   "metadata": {},
   "outputs": [
    {
     "name": "stdout",
     "output_type": "stream",
     "text": [
      "[15 30 20]\n",
      "check if all is greater than 1: True\n"
     ]
    }
   ],
   "source": [
    "print(np.sum(x, axis=1))\n",
    "print(\"check if all is greater than 1:\",np.all(x>1))"
   ]
  },
  {
   "cell_type": "code",
   "execution_count": 99,
   "metadata": {},
   "outputs": [
    {
     "name": "stdout",
     "output_type": "stream",
     "text": [
      "order,name,height(cm)\r\n",
      "1,George Washington,189\r\n",
      "2,John Adams,170\r\n",
      "3,Thomas Jefferson,189\r\n"
     ]
    }
   ],
   "source": [
    "!head -4 ../data/president_heights.csv"
   ]
  },
  {
   "cell_type": "code",
   "execution_count": 103,
   "metadata": {},
   "outputs": [
    {
     "name": "stdout",
     "output_type": "stream",
     "text": [
      ".\n",
      "/Users/yemao/Documents/Project workspaces/ScientificTutorialSample/notebooks\n",
      "/Users/yemao/Documents/Project workspaces/ScientificTutorialSample\n",
      "['.DS_Store', 'requirements.txt', 'pandas_practice.py', 'models', 'Rainydays.py', 'README.md', '.git', 'main.py', 'data', 'notebooks', 'numpy_practice.py', '.idea']\n"
     ]
    }
   ],
   "source": [
    "import os\n",
    "current_work_directory = os.getcwd()\n",
    "print(os.path.relpath(current_work_directory))\n",
    "print(os.path.abspath(current_work_directory))\n",
    "from pathlib import Path\n",
    "path = Path(current_work_directory)\n",
    "print(path.parent)\n",
    "print(os.listdir(path.parent))\n",
    "print(os.listdir(path.parent.))\n",
    "# p = path.parent.glob('**/*') #Use glob to list all files and directories. And then filter it.\n",
    "# files = [x for x in p if x.is_file()]\n",
    "# print(files)"
   ]
  },
  {
   "cell_type": "code",
   "execution_count": 108,
   "metadata": {},
   "outputs": [
    {
     "name": "stdout",
     "output_type": "stream",
     "text": [
      "[189 170 189 163 183 171 185 168 173 183 173 173 175 178 183 193 178 173\n",
      " 174 183 183 168 170 178 182 180 183 178 182 188 175 179 183 193 182 183\n",
      " 177 185 188 188 182 185]\n",
      "mean height: 179.73809523809524\n",
      "sd of height: 6.931843442745892\n",
      "min height index: 3\n",
      "president of min height is : James Madison\n",
      "25th percentile: 174.25\n",
      "median 182.0\n"
     ]
    }
   ],
   "source": [
    "all_data = pd.read_csv(\"../data/president_heights.csv\")\n",
    "president_heights_data = np.array(all_data['height(cm)'])\n",
    "print(president_heights_data)\n",
    "print(\"mean height:\",president_heights_data.mean())\n",
    "print(\"sd of height:\",president_heights_data.std())\n",
    "print(\"min height index:\",president_heights_data.argmin())\n",
    "print(\"president of min height is :\", all_data[\"name\"][president_heights_data.argmin()])\n",
    "print(\"25th percentile:\", np.percentile(president_heights_data,25))\n",
    "print(\"median\", np.median(president_heights_data))"
   ]
  },
  {
   "cell_type": "code",
   "execution_count": 112,
   "metadata": {},
   "outputs": [
    {
     "data": {
      "text/plain": [
       "Text(0, 0.5, 'number')"
      ]
     },
     "execution_count": 112,
     "metadata": {},
     "output_type": "execute_result"
    },
    {
     "data": {
      "image/png": "[encoded data removed]",
      "text/plain": [
       "<Figure size 432x288 with 1 Axes>"
      ]
     },
     "metadata": {},
     "output_type": "display_data"
    }
   ],
   "source": [
    "plt.hist(president_heights_data)\n",
    "plt.title(\"Height distribution of USA presidents\")\n",
    "plt.xlabel(\"height(cm)\")\n",
    "plt.ylabel(\"number\")"
   ]
  },
  {
   "cell_type": "markdown",
   "metadata": {},
   "source": [
    "## Broadcasting"
   ]
  },
  {
   "cell_type": "code",
   "execution_count": 121,
   "metadata": {},
   "outputs": [
    {
     "name": "stdout",
     "output_type": "stream",
     "text": [
      "[[0 1 2]\n",
      " [1 2 3]\n",
      " [2 3 4]]\n",
      "(3, 1)\n"
     ]
    }
   ],
   "source": [
    "a = np.arange(3)\n",
    "b = np.arange(3)[:,np.newaxis]\n",
    "print(a+b)\n",
    "print(b.shape)"
   ]
  },
  {
   "cell_type": "code",
   "execution_count": 117,
   "metadata": {},
   "outputs": [
    {
     "data": {
      "text/plain": [
       "array([[1., 1., 1.],\n",
       "       [1., 1., 1.]])"
      ]
     },
     "execution_count": 117,
     "metadata": {},
     "output_type": "execute_result"
    }
   ],
   "source": [
    "M = np.ones((2,3))\n",
    "M"
   ]
  },
  {
   "cell_type": "code",
   "execution_count": 118,
   "metadata": {},
   "outputs": [
    {
     "data": {
      "text/plain": [
       "(2, 3)"
      ]
     },
     "execution_count": 118,
     "metadata": {},
     "output_type": "execute_result"
    }
   ],
   "source": [
    "M.shape"
   ]
  },
  {
   "cell_type": "code",
   "execution_count": 119,
   "metadata": {},
   "outputs": [
    {
     "data": {
      "text/plain": [
       "(3,)"
      ]
     },
     "execution_count": 119,
     "metadata": {},
     "output_type": "execute_result"
    }
   ],
   "source": [
    "a.shape"
   ]
  },
  {
   "cell_type": "code",
   "execution_count": 120,
   "metadata": {},
   "outputs": [
    {
     "data": {
      "text/plain": [
       "array([[1., 2., 3.],\n",
       "       [1., 2., 3.]])"
      ]
     },
     "execution_count": 120,
     "metadata": {},
     "output_type": "execute_result"
    }
   ],
   "source": [
    "M+a"
   ]
  },
  {
   "cell_type": "markdown",
   "metadata": {},
   "source": [
    "### Center an array"
   ]
  },
  {
   "cell_type": "code",
   "execution_count": 125,
   "metadata": {},
   "outputs": [
    {
     "name": "stdout",
     "output_type": "stream",
     "text": [
      "[0.53668882 0.45985194 0.49396372]\n",
      "[ 8.88178420e-17 -1.11022302e-17  9.99200722e-17]\n"
     ]
    }
   ],
   "source": [
    "X= np.random.random((10,3))\n",
    "XMean= X.mean(0) # aggregate across the first dimension\n",
    "print(XMean)\n",
    "X_centered = X-XMean\n",
    "print(X_centered.mean(0))"
   ]
  },
  {
   "cell_type": "markdown",
   "metadata": {},
   "source": [
    "### Plotting a two-dimensional function"
   ]
  },
  {
   "cell_type": "code",
   "execution_count": 135,
   "metadata": {},
   "outputs": [
    {
     "data": {
      "text/plain": [
       "array([[-0.83907153, -0.83470697, -0.8216586 , ...,  0.8956708 ,\n",
       "         0.68617261,  0.41940746],\n",
       "       [-0.83907153, -0.82902677, -0.8103873 , ...,  0.92522407,\n",
       "         0.75321348,  0.52508175],\n",
       "       [-0.83907153, -0.82325668, -0.79876457, ...,  0.96427357,\n",
       "         0.84172689,  0.66446403],\n",
       "       ...,\n",
       "       [-0.83907153, -0.48233077, -0.01646558, ...,  0.96449925,\n",
       "         0.75196531,  0.41982581],\n",
       "       [-0.83907153, -0.47324558,  0.00392612, ...,  0.92542163,\n",
       "         0.68540362,  0.37440839],\n",
       "       [-0.83907153, -0.46410908,  0.02431613, ...,  0.89579384,\n",
       "         0.65690314,  0.40107702]])"
      ]
     },
     "execution_count": 135,
     "metadata": {},
     "output_type": "execute_result"
    }
   ],
   "source": [
    "# x and y have 50 steps from 0 to 5\n",
    "x = np.linspace(0,5,50)\n",
    "y = np.linspace(0,5,50)[:, np.newaxis]\n",
    "z= np.sin(x) ** 10 + np.cos(10+y*x ) * np.cos(x)"
   ]
  },
  {
   "cell_type": "code",
   "execution_count": 138,
   "metadata": {},
   "outputs": [
    {
     "data": {
      "text/plain": [
       "<matplotlib.colorbar.Colorbar at 0x1a25672208>"
      ]
     },
     "execution_count": 138,
     "metadata": {},
     "output_type": "execute_result"
    },
    {
     "data": {
      "image/png": "[encoded data removed]",
      "text/plain": [
       "<Figure size 432x288 with 2 Axes>"
      ]
     },
     "metadata": {},
     "output_type": "display_data"
    }
   ],
   "source": [
    "plt.imshow(z, origin = \"lower\", extent = [0,5,0,5], cmap=\"viridis\")\n",
    "plt.colorbar()\n"
   ]
  },
  {
   "cell_type": "markdown",
   "metadata": {},
   "source": [
    "### Comparison and Mask"
   ]
  },
  {
   "cell_type": "code",
   "execution_count": 156,
   "metadata": {},
   "outputs": [
    {
     "name": "stdout",
     "output_type": "stream",
     "text": [
      "STATION,STATION_NAME,DATE,PRCP,SNWD,SNOW,TMAX,TMIN,AWND,WDF2,WDF5,WSF2,WSF5,WT01,WT05,WT02,WT03\r\n",
      "GHCND:USW00024233,SEATTLE TACOMA INTERNATIONAL AIRPORT WA US,20140101,0,0,0,72,33,12,340,310,36,40,-9999,-9999,-9999,-9999\r\n",
      "GHCND:USW00024233,SEATTLE TACOMA INTERNATIONAL AIRPORT WA US,20140102,41,0,0,106,61,32,190,200,94,116,-9999,-9999,-9999,-9999\r\n",
      "GHCND:USW00024233,SEATTLE TACOMA INTERNATIONAL AIRPORT WA US,20140103,15,0,0,89,28,26,30,50,63,72,1,-9999,-9999,-9999\r\n"
     ]
    }
   ],
   "source": [
    "!head -4 ../data/Seattle2014.csv\n",
    "rain_fall = pd.read_csv(\"../data/Seattle2014.csv\")[\"PRCP\"]"
   ]
  },
  {
   "cell_type": "code",
   "execution_count": 177,
   "metadata": {},
   "outputs": [
    {
     "data": {
      "text/plain": [
       "False"
      ]
     },
     "execution_count": 177,
     "metadata": {},
     "output_type": "execute_result"
    }
   ],
   "source": [
    "rain_fall_values = rain_fall.values\n",
    "np.any((rain_fall_values - np.array(rain_fall))>0)\n",
    "# same as rain_fall.values"
   ]
  },
  {
   "cell_type": "code",
   "execution_count": 178,
   "metadata": {},
   "outputs": [
    {
     "data": {
      "text/plain": [
       "(array([245.,  14.,  13.,  17.,   8.,   6.,   5.,   6.,   4.,   3.,   7.,\n",
       "          6.,   3.,   3.,   3.,   4.,   4.,   2.,   4.,   0.,   0.,   1.,\n",
       "          1.,   1.,   0.,   0.,   0.,   2.,   1.,   1.,   0.,   0.,   0.,\n",
       "          0.,   0.,   0.,   0.,   0.,   0.,   1.]),\n",
       " array([0.        , 0.04596457, 0.09192913, 0.1378937 , 0.18385827,\n",
       "        0.22982283, 0.2757874 , 0.32175197, 0.36771654, 0.4136811 ,\n",
       "        0.45964567, 0.50561024, 0.5515748 , 0.59753937, 0.64350394,\n",
       "        0.6894685 , 0.73543307, 0.78139764, 0.8273622 , 0.87332677,\n",
       "        0.91929134, 0.96525591, 1.01122047, 1.05718504, 1.10314961,\n",
       "        1.14911417, 1.19507874, 1.24104331, 1.28700787, 1.33297244,\n",
       "        1.37893701, 1.42490157, 1.47086614, 1.51683071, 1.56279528,\n",
       "        1.60875984, 1.65472441, 1.70068898, 1.74665354, 1.79261811,\n",
       "        1.83858268]),\n",
       " <a list of 40 Patch objects>)"
      ]
     },
     "execution_count": 178,
     "metadata": {},
     "output_type": "execute_result"
    },
    {
     "data": {
      "image/png": "[encoded data removed]",
      "text/plain": [
       "<Figure size 432x288 with 1 Axes>"
      ]
     },
     "metadata": {},
     "output_type": "display_data"
    }
   ],
   "source": [
    "inches = rain_fall_values/254 \n",
    "plt.hist(inches,40)"
   ]
  },
  {
   "cell_type": "code",
   "execution_count": 179,
   "metadata": {},
   "outputs": [
    {
     "data": {
      "text/plain": [
       "29"
      ]
     },
     "execution_count": 179,
     "metadata": {},
     "output_type": "execute_result"
    }
   ],
   "source": [
    "np.sum((inches >0.5)&(inches <1)) # count the number of days"
   ]
  },
  {
   "cell_type": "code",
   "execution_count": 185,
   "metadata": {},
   "outputs": [
    {
     "name": "stdout",
     "output_type": "stream",
     "text": [
      "[[0 0 6 2]\n",
      " [0 8 4 8]\n",
      " [1 9 1 6]]\n"
     ]
    },
    {
     "data": {
      "text/plain": [
       "8"
      ]
     },
     "execution_count": 185,
     "metadata": {},
     "output_type": "execute_result"
    }
   ],
   "source": [
    "x = rng.randint(0,10,(3,4))\n",
    "print(x)\n",
    "np.sum(x[x<5])"
   ]
  },
  {
   "cell_type": "code",
   "execution_count": 186,
   "metadata": {},
   "outputs": [
    {
     "name": "stdout",
     "output_type": "stream",
     "text": [
      "median precip on rainy days in 2014： 0.19488188976377951\n"
     ]
    }
   ],
   "source": [
    "rainy = (inches>0) # create a mask of all rainy days\n",
    "print(\"median precip on rainy days in 2014：\", np.median(inches[rainy]))"
   ]
  },
  {
   "cell_type": "code",
   "execution_count": 190,
   "metadata": {},
   "outputs": [],
   "source": [
    "summer = ( (np.arange(365) - 172> 0) & (np.arange(365)-172<90) )"
   ]
  },
  {
   "cell_type": "code",
   "execution_count": 192,
   "metadata": {},
   "outputs": [
    {
     "name": "stdout",
     "output_type": "stream",
     "text": [
      "median precip on non-summer days in 2014: 0.20078740157480315\n"
     ]
    }
   ],
   "source": [
    "print(\"median precip on non-summer days in 2014:\", np.median(inches[rainy & ~ summer]))"
   ]
  },
  {
   "cell_type": "markdown",
   "metadata": {},
   "source": [
    "## Fancy indexing"
   ]
  },
  {
   "cell_type": "code",
   "execution_count": 195,
   "metadata": {},
   "outputs": [
    {
     "data": {
      "text/plain": [
       "array([ 1, 33, 49, 17, 48, 94, 79, 72, 93, 11])"
      ]
     },
     "execution_count": 195,
     "metadata": {},
     "output_type": "execute_result"
    }
   ],
   "source": [
    "x= rng.randint(100, size=10)\n",
    "print(x)"
   ]
  },
  {
   "cell_type": "code",
   "execution_count": 196,
   "metadata": {},
   "outputs": [
    {
     "data": {
      "text/plain": [
       "array([33, 49, 17])"
      ]
     },
     "execution_count": 196,
     "metadata": {},
     "output_type": "execute_result"
    }
   ],
   "source": [
    "ind=[1,2,3]\n",
    "x[ind]"
   ]
  },
  {
   "cell_type": "code",
   "execution_count": 197,
   "metadata": {},
   "outputs": [
    {
     "data": {
      "text/plain": [
       "array([[17, 48],\n",
       "       [33, 49]])"
      ]
     },
     "execution_count": 197,
     "metadata": {},
     "output_type": "execute_result"
    }
   ],
   "source": [
    "ind2 = np.array([[3,4],\n",
    "                [1,2]])\n",
    "x[ind2] # index influences the shape, NOT x!"
   ]
  },
  {
   "cell_type": "code",
   "execution_count": 199,
   "metadata": {},
   "outputs": [
    {
     "name": "stdout",
     "output_type": "stream",
     "text": [
      "[[ 0  1  2  3]\n",
      " [ 4  5  6  7]\n",
      " [ 8  9 10 11]]\n"
     ]
    },
    {
     "data": {
      "text/plain": [
       "array([1, 5, 9])"
      ]
     },
     "execution_count": 199,
     "metadata": {},
     "output_type": "execute_result"
    }
   ],
   "source": [
    "X= np.arange(12).reshape((3,4))\n",
    "print(X)\n",
    "row_index = np.array([0,1,2])\n",
    "column_index = np.array([1,1,1])\n",
    "X[row_index,column_index]"
   ]
  },
  {
   "cell_type": "code",
   "execution_count": 200,
   "metadata": {},
   "outputs": [
    {
     "data": {
      "text/plain": [
       "array([[1, 1, 1],\n",
       "       [5, 5, 5],\n",
       "       [9, 9, 9]])"
      ]
     },
     "execution_count": 200,
     "metadata": {},
     "output_type": "execute_result"
    }
   ],
   "source": [
    "X[row_index[:,np.newaxis],column_index] # return the broadcasted shape of the index, not X!"
   ]
  },
  {
   "cell_type": "code",
   "execution_count": 201,
   "metadata": {},
   "outputs": [
    {
     "data": {
      "text/plain": [
       "array([ 8,  9, 10])"
      ]
     },
     "execution_count": 201,
     "metadata": {},
     "output_type": "execute_result"
    }
   ],
   "source": [
    "X[2, [0,1,2]] # combine fancy index with normal index"
   ]
  },
  {
   "cell_type": "code",
   "execution_count": 202,
   "metadata": {},
   "outputs": [
    {
     "data": {
      "text/plain": [
       "array([[ 4,  5,  6],\n",
       "       [ 8,  9, 10]])"
      ]
     },
     "execution_count": 202,
     "metadata": {},
     "output_type": "execute_result"
    }
   ],
   "source": [
    "X[1:, [0,1,2]] # combine fancy index with slicing"
   ]
  },
  {
   "cell_type": "code",
   "execution_count": 203,
   "metadata": {},
   "outputs": [
    {
     "data": {
      "text/plain": [
       "array([[0, 1, 0, 1],\n",
       "       [4, 5, 4, 5],\n",
       "       [8, 9, 8, 9]])"
      ]
     },
     "execution_count": 203,
     "metadata": {},
     "output_type": "execute_result"
    }
   ],
   "source": [
    "masked_column_index = np.array([0,1,0,1])\n",
    "X[row_index[:,np.newaxis],masked_column_index]"
   ]
  },
  {
   "cell_type": "markdown",
   "metadata": {},
   "source": [
    "### Selecting random points "
   ]
  },
  {
   "cell_type": "code",
   "execution_count": 205,
   "metadata": {},
   "outputs": [
    {
     "data": {
      "text/plain": [
       "(100, 2)"
      ]
     },
     "execution_count": 205,
     "metadata": {},
     "output_type": "execute_result"
    }
   ],
   "source": [
    "mean = [0,0]\n",
    "cov = [[1,2],\n",
    "       [2,5]] # cov matrix\n",
    "X= rng.multivariate_normal(mean,cov, 100)\n",
    "X.shape"
   ]
  },
  {
   "cell_type": "code",
   "execution_count": 210,
   "metadata": {},
   "outputs": [
    {
     "data": {
      "text/plain": [
       "<matplotlib.collections.PathCollection at 0x1a2ccaf438>"
      ]
     },
     "execution_count": 210,
     "metadata": {},
     "output_type": "execute_result"
    },
    {
     "data": {
      "image/png": "[encoded data removed]",
      "text/plain": [
       "<Figure size 432x288 with 1 Axes>"
      ]
     },
     "metadata": {},
     "output_type": "display_data"
    }
   ],
   "source": [
    "plt.scatter(X[:,0],X[:,1])"
   ]
  },
  {
   "cell_type": "code",
   "execution_count": 212,
   "metadata": {},
   "outputs": [
    {
     "data": {
      "text/plain": [
       "array([46,  3,  2, 97, 36, 70, 31, 21, 78, 99, 32, 68, 24, 60, 14, 45, 40,\n",
       "       55, 27, 29])"
      ]
     },
     "execution_count": 212,
     "metadata": {},
     "output_type": "execute_result"
    }
   ],
   "source": [
    "random_20_indices= np.random.choice(X.shape[0],20,replace=False)"
   ]
  },
  {
   "cell_type": "code",
   "execution_count": 239,
   "metadata": {},
   "outputs": [
    {
     "name": "stdout",
     "output_type": "stream",
     "text": [
      "(20, 2)\n"
     ]
    },
    {
     "data": {
      "text/plain": [
       "<matplotlib.collections.PathCollection at 0x1a2dfc75f8>"
      ]
     },
     "execution_count": 239,
     "metadata": {},
     "output_type": "execute_result"
    },
    {
     "data": {
      "image/png": "[encoded data removed]",
      "text/plain": [
       "<Figure size 432x288 with 1 Axes>"
      ]
     },
     "metadata": {},
     "output_type": "display_data"
    }
   ],
   "source": [
    "selection=X[random_20_indices]\n",
    "print(selection.shape)\n",
    "plt.scatter(X[:,0],X[:,1], alpha=0.4) \n",
    "plt.scatter(selection[:,0],selection[:,1],marker=\"o\",c=[\"r\"],facecolor='None', s = 50)"
   ]
  },
  {
   "cell_type": "code",
   "execution_count": 241,
   "metadata": {},
   "outputs": [
    {
     "name": "stdout",
     "output_type": "stream",
     "text": [
      "[ 0 99 99  3 99 99  6  7  8  9]\n"
     ]
    }
   ],
   "source": [
    "x = np.arange(10)\n",
    "i = np.array([2,1,4,5])\n",
    "x[i] = 99 # using fancy index to \n",
    "print(x)"
   ]
  },
  {
   "cell_type": "code",
   "execution_count": 243,
   "metadata": {},
   "outputs": [
    {
     "name": "stdout",
     "output_type": "stream",
     "text": [
      "[ 0 79 79  3 79 79  6  7  8  9]\n"
     ]
    }
   ],
   "source": [
    "x[i] -=10\n",
    "print(x)"
   ]
  },
  {
   "cell_type": "code",
   "execution_count": 248,
   "metadata": {},
   "outputs": [
    {
     "name": "stdout",
     "output_type": "stream",
     "text": [
      "[0. 0. 1. 2. 2. 0. 0. 0. 0. 0.]\n"
     ]
    }
   ],
   "source": [
    "x= np.zeros(10)\n",
    "i = [2,3,3,4,4]\n",
    "np.add.at(x,i,1)\n",
    "print(x)"
   ]
  },
  {
   "cell_type": "code",
   "execution_count": 268,
   "metadata": {},
   "outputs": [],
   "source": [
    "x= rng.randn(100)\n",
    "bins = np.linspace(-5,5,20)\n",
    "counts= np.zeros_like(bins)\n",
    "i = np.searchsorted(bins,x)\n",
    "np.add.at(counts,i,1)"
   ]
  },
  {
   "cell_type": "code",
   "execution_count": 269,
   "metadata": {},
   "outputs": [
    {
     "data": {
      "text/plain": [
       "(array([ 0.,  0.,  0.,  1.,  0.,  1.,  8., 10., 18., 25., 16., 13.,  4.,\n",
       "         2.,  2.,  0.,  0.,  0.,  0.]),\n",
       " array([-5.        , -4.47368421, -3.94736842, -3.42105263, -2.89473684,\n",
       "        -2.36842105, -1.84210526, -1.31578947, -0.78947368, -0.26315789,\n",
       "         0.26315789,  0.78947368,  1.31578947,  1.84210526,  2.36842105,\n",
       "         2.89473684,  3.42105263,  3.94736842,  4.47368421,  5.        ]),\n",
       " <a list of 1 Patch objects>)"
      ]
     },
     "execution_count": 269,
     "metadata": {},
     "output_type": "execute_result"
    },
    {
     "data": {
      "image/png": "[encoded data removed]",
      "text/plain": [
       "<Figure size 432x288 with 1 Axes>"
      ]
     },
     "metadata": {},
     "output_type": "display_data"
    }
   ],
   "source": [
    "plt.hist(x,bins,histtype=\"step\")"
   ]
  },
  {
   "cell_type": "code",
   "execution_count": 272,
   "metadata": {},
   "outputs": [
    {
     "name": "stderr",
     "output_type": "stream",
     "text": [
      "/Users/yemao/anaconda3/lib/python3.7/site-packages/ipykernel_launcher.py:1: MatplotlibDeprecationWarning: Passing the drawstyle with the linestyle as a single string is deprecated since Matplotlib 3.1 and support will be removed in 3.3; please pass the drawstyle separately using the drawstyle keyword argument to Line2D or set_drawstyle() method (or ds/set_ds()).\n",
      "  \"\"\"Entry point for launching an IPython kernel.\n"
     ]
    },
    {
     "data": {
      "text/plain": [
       "[<matplotlib.lines.Line2D at 0x1a2e39d470>]"
      ]
     },
     "execution_count": 272,
     "metadata": {},
     "output_type": "execute_result"
    },
    {
     "data": {
      "image/png": "[encoded data removed]",
      "text/plain": [
       "<Figure size 432x288 with 1 Axes>"
      ]
     },
     "metadata": {},
     "output_type": "display_data"
    }
   ],
   "source": [
    "plt.plot(bins,counts,linestyle=\"steps\")"
   ]
  },
  {
   "cell_type": "markdown",
   "metadata": {},
   "source": [
    "### Sorting in Numpy"
   ]
  },
  {
   "cell_type": "code",
   "execution_count": 290,
   "metadata": {},
   "outputs": [
    {
     "data": {
      "text/plain": [
       "array([2, 3, 4, 5, 5, 6, 8, 9, 9, 9])"
      ]
     },
     "execution_count": 290,
     "metadata": {},
     "output_type": "execute_result"
    }
   ],
   "source": [
    "rng = np.random.RandomState(255)\n",
    "x = rng.randint(0,10,size=10)\n",
    "np.sort(x)\n"
   ]
  },
  {
   "cell_type": "code",
   "execution_count": 289,
   "metadata": {},
   "outputs": [
    {
     "name": "stdout",
     "output_type": "stream",
     "text": [
      "[2 3 4 5 5 6 8 9 9 9]\n"
     ]
    }
   ],
   "source": [
    "x.sort()\n",
    "print(x)"
   ]
  },
  {
   "cell_type": "code",
   "execution_count": 294,
   "metadata": {},
   "outputs": [
    {
     "name": "stdout",
     "output_type": "stream",
     "text": [
      "[8 0 9 4 6 3 5 1 2 7]\n",
      "[2 3 4 5 5 6 8 9 9 9]\n"
     ]
    }
   ],
   "source": [
    "index_sorted = np.argsort(x) # sort the index!\n",
    "print(index_sorted)\n",
    "print(x[index_sorted])"
   ]
  },
  {
   "cell_type": "code",
   "execution_count": 295,
   "metadata": {},
   "outputs": [
    {
     "data": {
      "text/plain": [
       "array([[3, 9, 9, 6],\n",
       "       [5, 8, 5, 9],\n",
       "       [2, 4, 9, 0]])"
      ]
     },
     "execution_count": 295,
     "metadata": {},
     "output_type": "execute_result"
    }
   ],
   "source": [
    "rng = np.random.RandomState(255)\n",
    "x = rng.randint(0,10,size=(3,4))\n",
    "x"
   ]
  },
  {
   "cell_type": "code",
   "execution_count": 299,
   "metadata": {},
   "outputs": [
    {
     "name": "stdout",
     "output_type": "stream",
     "text": [
      "[[2 4 5 0]\n",
      " [3 8 9 6]\n",
      " [5 9 9 9]]\n",
      "[[3 6 9 9]\n",
      " [5 5 8 9]\n",
      " [0 2 4 9]]\n"
     ]
    }
   ],
   "source": [
    "# sorting column => axis =0\n",
    "sorted_arr = np.sort(x, axis=0)\n",
    "print(sorted_arr)\n",
    "# sorting row => axis =1\n",
    "sorted_arr = np.sort(x, axis=1)\n",
    "print(sorted_arr)"
   ]
  },
  {
   "cell_type": "markdown",
   "metadata": {},
   "source": [
    "### Partitioning - sort the smallest k values"
   ]
  },
  {
   "cell_type": "code",
   "execution_count": 300,
   "metadata": {},
   "outputs": [
    {
     "data": {
      "text/plain": [
       "array([[3, 9, 9, 6],\n",
       "       [5, 8, 5, 9],\n",
       "       [2, 4, 9, 0],\n",
       "       [7, 1, 4, 1]])"
      ]
     },
     "execution_count": 300,
     "metadata": {},
     "output_type": "execute_result"
    }
   ],
   "source": [
    "rng = np.random.RandomState(255)\n",
    "x = rng.randint(0,10,size=(4,4))\n",
    "x"
   ]
  },
  {
   "cell_type": "code",
   "execution_count": 301,
   "metadata": {},
   "outputs": [
    {
     "data": {
      "text/plain": [
       "array([[3, 6, 9, 9],\n",
       "       [5, 5, 8, 9],\n",
       "       [0, 2, 4, 9],\n",
       "       [1, 1, 4, 7]])"
      ]
     },
     "execution_count": 301,
     "metadata": {},
     "output_type": "execute_result"
    }
   ],
   "source": [
    "np.partition(x,2,axis =1) # first 2 slots of each row are the smallest values!"
   ]
  },
  {
   "cell_type": "code",
   "execution_count": 302,
   "metadata": {},
   "outputs": [
    {
     "data": {
      "text/plain": [
       "array([[0, 3, 2, 1],\n",
       "       [0, 2, 1, 3],\n",
       "       [3, 0, 1, 2],\n",
       "       [1, 3, 2, 0]])"
      ]
     },
     "execution_count": 302,
     "metadata": {},
     "output_type": "execute_result"
    }
   ],
   "source": [
    "np.argpartition(x,2,axis = 1) # get indices of these two values"
   ]
  },
  {
   "cell_type": "markdown",
   "metadata": {},
   "source": [
    "### K-Nearest Neighbors"
   ]
  },
  {
   "cell_type": "code",
   "execution_count": 316,
   "metadata": {},
   "outputs": [
    {
     "data": {
      "text/plain": [
       "<matplotlib.collections.PathCollection at 0x1a2f5c1908>"
      ]
     },
     "execution_count": 316,
     "metadata": {},
     "output_type": "execute_result"
    },
    {
     "data": {
      "image/png": "[encoded data removed]",
      "text/plain": [
       "<Figure size 432x288 with 1 Axes>"
      ]
     },
     "metadata": {},
     "output_type": "display_data"
    }
   ],
   "source": [
    "X = rng.rand(10,2)\n",
    "plt.scatter(X[:,0],X[:,1], s= 50)"
   ]
  },
  {
   "cell_type": "code",
   "execution_count": 318,
   "metadata": {},
   "outputs": [
    {
     "data": {
      "text/plain": [
       "(10, 10, 2)"
      ]
     },
     "execution_count": 318,
     "metadata": {},
     "output_type": "execute_result"
    }
   ],
   "source": [
    "difference = X[:,np.newaxis,:] - X[np.newaxis,:,:] \n",
    "difference.shape"
   ]
  },
  {
   "cell_type": "code",
   "execution_count": 319,
   "metadata": {},
   "outputs": [
    {
     "data": {
      "text/plain": [
       "(10, 10, 2)"
      ]
     },
     "execution_count": 319,
     "metadata": {},
     "output_type": "execute_result"
    }
   ],
   "source": [
    "difference_square = difference**2\n",
    "difference_square.shape\n"
   ]
  },
  {
   "cell_type": "code",
   "execution_count": 321,
   "metadata": {},
   "outputs": [
    {
     "data": {
      "text/plain": [
       "(10, 10)"
      ]
     },
     "execution_count": 321,
     "metadata": {},
     "output_type": "execute_result"
    }
   ],
   "source": [
    "dist_sq = np.sum(difference_square,axis = -1)\n",
    "dist_sq.shape"
   ]
  },
  {
   "cell_type": "code",
   "execution_count": 323,
   "metadata": {},
   "outputs": [
    {
     "data": {
      "text/plain": [
       "array([[0, 9, 6, 3, 1, 5, 2, 8, 7, 4],\n",
       "       [1, 2, 5, 0, 4, 9, 8, 6, 7, 3],\n",
       "       [2, 1, 5, 0, 9, 4, 8, 6, 7, 3],\n",
       "       [3, 6, 9, 0, 7, 8, 4, 5, 1, 2],\n",
       "       [4, 8, 7, 5, 6, 1, 9, 2, 0, 3],\n",
       "       [5, 1, 2, 4, 8, 0, 7, 9, 6, 3],\n",
       "       [6, 9, 3, 0, 7, 8, 4, 5, 1, 2],\n",
       "       [7, 8, 4, 6, 5, 9, 3, 0, 1, 2],\n",
       "       [8, 7, 4, 6, 5, 9, 0, 3, 1, 2],\n",
       "       [9, 6, 0, 3, 8, 7, 5, 1, 4, 2]])"
      ]
     },
     "execution_count": 323,
     "metadata": {},
     "output_type": "execute_result"
    }
   ],
   "source": [
    "nearest = np.argsort(dist_sq,axis= 1)\n",
    "nearest # the leftmost is the index of the nearest neighbor (the point itself!)"
   ]
  },
  {
   "cell_type": "code",
   "execution_count": 324,
   "metadata": {},
   "outputs": [],
   "source": [
    "K = 2 \n",
    "# Locating smallest k neighbor means the k+1 squared distances comes first (including itself)\n",
    "nearest_partition = np.argpartition(dist_sq,K+1,axis=1)"
   ]
  },
  {
   "cell_type": "code",
   "execution_count": 331,
   "metadata": {},
   "outputs": [
    {
     "data": {
      "image/png": "[encoded data removed]",
      "text/plain": [
       "<Figure size 432x288 with 1 Axes>"
      ]
     },
     "metadata": {},
     "output_type": "display_data"
    }
   ],
   "source": [
    "plt.scatter(X[:,0],X[:,1],s=50)\n",
    "# Draw lines from each point to its nearest neighbor\n",
    "K = 2\n",
    "for i in range(X.shape[0]):\n",
    "    for j in nearest_partition[i,1:K+1]:\n",
    "        # plot the line from X[i] to X[j]\n",
    "        plt.plot(*zip(X[i],X[j]),color=\"black\")"
   ]
  },
  {
   "cell_type": "code",
   "execution_count": null,
   "metadata": {},
   "outputs": [],
   "source": []
  }
 ],
 "metadata": {
  "kernelspec": {
   "display_name": "Python 3",
   "language": "python",
   "name": "python3"
  },
  "language_info": {
   "codemirror_mode": {
    "name": "ipython",
    "version": 3
   },
   "file_extension": ".py",
   "mimetype": "text/x-python",
   "name": "python",
   "nbconvert_exporter": "python",
   "pygments_lexer": "ipython3",
   "version": "3.7.3"
  },
  "pycharm": {
   "stem_cell": {
    "cell_type": "raw",
    "metadata": {
     "collapsed": false
    },
    "source": []
   }
  },
  "toc": {
   "base_numbering": 1,
   "nav_menu": {},
   "number_sections": true,
   "sideBar": true,
   "skip_h1_title": false,
   "title_cell": "Table of Contents",
   "title_sidebar": "Contents",
   "toc_cell": false,
   "toc_position": {
    "height": "calc(100% - 180px)",
    "left": "10px",
    "top": "150px",
    "width": "288px"
   },
   "toc_section_display": true,
   "toc_window_display": true
  }
 },
 "nbformat": 4,
 "nbformat_minor": 1
}
